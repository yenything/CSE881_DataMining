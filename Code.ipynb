{
 "cells": [
  {
   "cell_type": "markdown",
   "metadata": {},
   "source": [
    "### Appendix (Code)"
   ]
  },
  {
   "cell_type": "markdown",
   "metadata": {},
   "source": [
    "### Load data"
   ]
  },
  {
   "cell_type": "code",
   "execution_count": 43,
   "metadata": {},
   "outputs": [],
   "source": [
    "import scipy.sparse as sp\n",
    "import numpy as np\n",
    "import json\n",
    "adj = sp.load_npz(r'C:\\Users\\user\\Documents\\JupyterWork\\CSE881_DM\\Project\\data_2023/adj.npz')\n",
    "feat  = np.load(r'C:\\Users\\user\\Documents\\JupyterWork\\CSE881_DM\\Project\\data_2023/features.npy')\n",
    "labels = np.load(r'C:\\Users\\user\\Documents\\JupyterWork\\CSE881_DM\\Project\\data_2023/labels.npy')\n",
    "splits = json.load(open(r'C:\\Users\\user\\Documents\\JupyterWork\\CSE881_DM\\Project\\data_2023/splits.json'))\n",
    "idx_train, idx_test = splits['idx_train'], splits['idx_test']"
   ]
  },
  {
   "cell_type": "code",
   "execution_count": 44,
   "metadata": {},
   "outputs": [],
   "source": [
    "from torch_geometric.utils import from_scipy_sparse_matrix"
   ]
  },
  {
   "cell_type": "code",
   "execution_count": 45,
   "metadata": {},
   "outputs": [],
   "source": [
    "edge_index = from_scipy_sparse_matrix(adj)"
   ]
  },
  {
   "cell_type": "code",
   "execution_count": 46,
   "metadata": {},
   "outputs": [
    {
     "data": {
      "text/plain": [
       "(tensor([[   0,    0,    0,  ..., 2478, 2478, 2479],\n",
       "         [1084, 1104, 1288,  ...,  931,  933,  999]]),\n",
       " tensor([1., 1., 1.,  ..., 1., 1., 1.]))"
      ]
     },
     "execution_count": 46,
     "metadata": {},
     "output_type": "execute_result"
    }
   ],
   "source": [
    "edge_index"
   ]
  },
  {
   "cell_type": "code",
   "execution_count": 47,
   "metadata": {},
   "outputs": [
    {
     "data": {
      "text/plain": [
       "(496, 1984)"
      ]
     },
     "execution_count": 47,
     "metadata": {},
     "output_type": "execute_result"
    }
   ],
   "source": [
    "len(splits['idx_train']), len(splits['idx_test'])"
   ]
  },
  {
   "cell_type": "code",
   "execution_count": 48,
   "metadata": {},
   "outputs": [],
   "source": [
    "import numpy as np\n",
    "import torch\n",
    "from torch_geometric.data import Data\n",
    "\n",
    "x = torch.tensor(feat, dtype=torch.float)\n",
    "y = torch.zeros(adj.shape[0], dtype=torch.long)\n",
    "y[idx_train] = torch.tensor(labels, dtype=torch.long)\n",
    "\n",
    "edge_index = torch.tensor(adj.nonzero(), dtype=torch.long)\n",
    "train_mask = torch.zeros(x.shape[0], dtype=torch.bool)\n",
    "test_mask = torch.zeros(x.shape[0], dtype=torch.bool)\n",
    "\n",
    "train_mask[idx_train] = True\n",
    "test_mask[idx_test] = True\n",
    "\n",
    "proj_data = Data(x=x, edge_index=edge_index, y=y, train_mask=train_mask, test_mask=test_mask)\n",
    "\n",
    "# proj_data = Data(x=x, edge_index=edge_index, y=y, train_mask=train_mask, test_mask=test_mask)"
   ]
  },
  {
   "cell_type": "code",
   "execution_count": 49,
   "metadata": {},
   "outputs": [
    {
     "data": {
      "text/plain": [
       "2480"
      ]
     },
     "execution_count": 49,
     "metadata": {},
     "output_type": "execute_result"
    }
   ],
   "source": [
    "adj.shape[0]"
   ]
  },
  {
   "cell_type": "code",
   "execution_count": 50,
   "metadata": {},
   "outputs": [
    {
     "name": "stdout",
     "output_type": "stream",
     "text": [
      "Number of nodes: 2480\n",
      "Number of edges: 10100\n",
      "Average node degree:  4.07\n",
      "Number of training nodes: 496\n",
      "Number of test nodes: 1984\n",
      "Training node label rate: 496\n"
     ]
    }
   ],
   "source": [
    "# Gather some statistics about the graph.\n",
    "print(f'Number of nodes: {proj_data.num_nodes}')\n",
    "print(f'Number of edges: {proj_data.num_edges}')\n",
    "print(f'Average node degree: {proj_data.num_edges / proj_data.num_nodes: .2f}')\n",
    "print(f'Number of training nodes: {proj_data.train_mask.sum()}')\n",
    "print(f'Number of test nodes: {proj_data.test_mask.sum()}')\n",
    "print(f'Training node label rate: {proj_data.train_mask.sum()}')"
   ]
  },
  {
   "cell_type": "code",
   "execution_count": 51,
   "metadata": {},
   "outputs": [
    {
     "data": {
      "text/plain": [
       "(2480, 2480)"
      ]
     },
     "execution_count": 51,
     "metadata": {},
     "output_type": "execute_result"
    }
   ],
   "source": [
    "adj.shape"
   ]
  },
  {
   "cell_type": "code",
   "execution_count": 52,
   "metadata": {},
   "outputs": [
    {
     "data": {
      "text/plain": [
       "tensor([[   0,    0,    0,  ..., 2478, 2478, 2479],\n",
       "        [1084, 1104, 1288,  ...,  931,  933,  999]])"
      ]
     },
     "execution_count": 52,
     "metadata": {},
     "output_type": "execute_result"
    }
   ],
   "source": [
    "edge_index"
   ]
  },
  {
   "cell_type": "code",
   "execution_count": 53,
   "metadata": {},
   "outputs": [
    {
     "data": {
      "text/plain": [
       "Data(x=[2480, 1390], edge_index=[2, 10100], y=[2480], train_mask=[2480], test_mask=[2480])"
      ]
     },
     "execution_count": 53,
     "metadata": {},
     "output_type": "execute_result"
    }
   ],
   "source": [
    "# Add validation data later \n",
    "\n",
    "proj_data"
   ]
  },
  {
   "cell_type": "markdown",
   "metadata": {},
   "source": [
    "### Prediction Model"
   ]
  },
  {
   "cell_type": "code",
   "execution_count": 54,
   "metadata": {},
   "outputs": [],
   "source": [
    "import torch\n",
    "import torch.nn.functional as F\n",
    "from torch.nn import Linear\n",
    "import torch_geometric\n",
    "from torch_geometric.nn import GCNConv\n"
   ]
  },
  {
   "cell_type": "markdown",
   "metadata": {},
   "source": [
    "### Baseline Model"
   ]
  },
  {
   "cell_type": "code",
   "execution_count": 55,
   "metadata": {},
   "outputs": [],
   "source": [
    "class GCN(torch.nn.Module):\n",
    "    def __init__(self, num_node_features, num_hidden, num_classes):\n",
    "        super().__init__()\n",
    "        self.conv1 = GCNConv(num_node_features, num_hidden)\n",
    "        self.conv2 = GCNConv(num_hidden, num_hidden)\n",
    "        self.conv3 = GCNConv(num_hidden, num_classes)\n",
    "\n",
    "    def forward(self, data):\n",
    "        x, edge_index = data.x, data.edge_index\n",
    "\n",
    "        x = self.conv1(x, edge_index)\n",
    "#         x = F.relu(x) # activation function\n",
    "        x = torch.sigmoid(x)\n",
    "        x = F.dropout(x, training=self.training) # to avoid overfitting\n",
    "        \n",
    "        x = self.conv2(x, edge_index)\n",
    "#         x = F.relu(x) # activation function\n",
    "        x = torch.sigmoid(x)\n",
    "        x = F.dropout(x, training=self.training) # to avoid overfitting\n",
    "        \n",
    "        x = self.conv3(x, edge_index)\n",
    "\n",
    "        return F.log_softmax(x, dim=1)"
   ]
  },
  {
   "cell_type": "code",
   "execution_count": 56,
   "metadata": {},
   "outputs": [],
   "source": [
    "device = torch.device('cuda' if torch.cuda.is_available() else 'cpu')\n",
    "\n",
    "proj_data = proj_data.to(device)"
   ]
  },
  {
   "cell_type": "code",
   "execution_count": 57,
   "metadata": {},
   "outputs": [
    {
     "name": "stdout",
     "output_type": "stream",
     "text": [
      "Epoch 0: 2.306647777557373\n",
      "Epoch 10: 1.737287998199463\n",
      "Epoch 20: 1.4834630489349365\n",
      "Epoch 30: 1.1442533731460571\n",
      "Epoch 40: 0.9501225352287292\n",
      "Epoch 50: 0.735469400882721\n",
      "Epoch 60: 0.6281275153160095\n",
      "Epoch 70: 0.5586093664169312\n",
      "Epoch 80: 0.4976198673248291\n",
      "Epoch 90: 0.4811908006668091\n",
      "Epoch 100: 0.4073542356491089\n",
      "Epoch 110: 0.3845098912715912\n",
      "Epoch 120: 0.3798958361148834\n",
      "Epoch 130: 0.3433077335357666\n",
      "Epoch 140: 0.27892106771469116\n",
      "Epoch 150: 0.28732556104660034\n",
      "Epoch 160: 0.312401682138443\n",
      "Epoch 170: 0.29221367835998535\n",
      "Epoch 180: 0.268650621175766\n",
      "Epoch 190: 0.25573262572288513\n"
     ]
    }
   ],
   "source": [
    "model = GCN(num_node_features=proj_data.x.shape[1], \n",
    "            num_hidden=32,\n",
    "            num_classes=(proj_data.y.max()+1).item()\n",
    "           ).to(device)\n",
    "\n",
    "# optimizer = torch.optim.Adam(model.parameters(), lr=0.001, weight_decay=0.001)\n",
    "# optimizer = torch.optim.SGD(model.parameters(), lr=0.01, momentum=0.9, weight_decay=1e-4)\n",
    "# optimizer = torch.optim.Adam(model.parameters(), lr=0.001, weight_decay=5e-3)\n",
    "# optimizer = torch.optim.RMSprop(model.parameters(), lr=0.01, alpha=0.9, weight_decay=0.0005) #12.85\n",
    "optimizer = torch.optim.RMSprop(model.parameters(), lr=0.01, alpha=0.8, weight_decay=0.0005) #12.05\n",
    "# optimizer = torch.optim.RMSprop(model.parameters(), lr=0.1, alpha=0.5, weight_decay=0.001)\n",
    "\n",
    "model.train()\n",
    "\n",
    "for epoch in range(200):\n",
    "    optimizer.zero_grad()\n",
    "    out = model(proj_data)\n",
    "    loss = F.nll_loss(out[proj_data.train_mask], proj_data.y[proj_data.train_mask])\n",
    "    loss.backward()\n",
    "    optimizer.step()\n",
    "    if epoch % 10 == 0:\n",
    "        print('Epoch {0}: {1}'.format(epoch, loss.item()))"
   ]
  },
  {
   "cell_type": "code",
   "execution_count": 58,
   "metadata": {},
   "outputs": [
    {
     "name": "stdout",
     "output_type": "stream",
     "text": [
      "Accuracy: 0.9657\n"
     ]
    }
   ],
   "source": [
    "model.eval()\n",
    "pred = model(proj_data).argmax(dim=1)\n",
    "correct = (pred[proj_data.train_mask] == proj_data.y[proj_data.train_mask]).sum()\n",
    "acc = int(correct) / int(proj_data.train_mask.sum())\n",
    "print(f'Accuracy: {acc:.4f}')"
   ]
  },
  {
   "cell_type": "markdown",
   "metadata": {},
   "source": [
    "---------------\n",
    "### Grid Search"
   ]
  },
  {
   "cell_type": "code",
   "execution_count": 59,
   "metadata": {},
   "outputs": [],
   "source": [
    "class GCN(torch.nn.Module):\n",
    "    def __init__(self, num_node_features, num_hidden, num_classes):\n",
    "        super().__init__()\n",
    "        self.conv1 = GCNConv(num_node_features, num_hidden)\n",
    "        self.conv2 = GCNConv(num_hidden, num_hidden)\n",
    "        self.conv3 = GCNConv(num_hidden, num_classes)\n",
    "\n",
    "    def forward(self, data):\n",
    "        x, edge_index = data.x, data.edge_index\n",
    "\n",
    "        x = self.conv1(x, edge_index)\n",
    "#         x = F.relu(x) # activation function\n",
    "        x = torch.sigmoid(x)\n",
    "        x = F.dropout(x, training=self.training) # to avoid overfitting\n",
    "        \n",
    "        x = self.conv2(x, edge_index)\n",
    "#         x = F.relu(x) # activation function\n",
    "        x = torch.sigmoid(x)\n",
    "        x = F.dropout(x, training=self.training) # to avoid overfitting\n",
    "        \n",
    "        x = self.conv3(x, edge_index)\n",
    "\n",
    "        return F.log_softmax(x, dim=1)"
   ]
  },
  {
   "cell_type": "code",
   "execution_count": 60,
   "metadata": {},
   "outputs": [],
   "source": [
    "device = torch.device('cuda' if torch.cuda.is_available() else 'cpu')\n",
    "\n",
    "proj_data = proj_data.to(device)"
   ]
  },
  {
   "cell_type": "code",
   "execution_count": 61,
   "metadata": {},
   "outputs": [
    {
     "name": "stdout",
     "output_type": "stream",
     "text": [
      "Best accuracy: 0.9959677457809448\n",
      "Best hyperparameters: {'num_hidden': 64, 'lr': 0.04, 'weight_decay': 0.0001}\n",
      "Train accuracy: 0.9960\n"
     ]
    }
   ],
   "source": [
    "import itertools\n",
    "\n",
    "params = {\n",
    "    'num_hidden': [16, 32, 64, 128],\n",
    "    'lr': [0.003, 0.002, 0.001, 0.04, 0.03, 0.02, 0.01, 0.1],\n",
    "    'weight_decay': [0.0005, 0.0001, 0.001, 0.01]\n",
    "}\n",
    "\n",
    "param_combinations = list(itertools.product(*params.values()))\n",
    "\n",
    "best_accuracy = 0\n",
    "for combination in param_combinations:\n",
    "    num_hidden, lr, weight_decay = combination\n",
    "\n",
    "    model = GCN(num_node_features=proj_data.x.shape[1], \n",
    "                num_hidden=num_hidden,\n",
    "                num_classes=(proj_data.y.max()+1).item()\n",
    "               ).to(device)\n",
    "    optimizer = torch.optim.RMSprop(model.parameters(), lr=lr, alpha=0.8, weight_decay=weight_decay)\n",
    "\n",
    "    model.train()\n",
    "    for epoch in range(200):\n",
    "        optimizer.zero_grad()\n",
    "        out = model(proj_data)\n",
    "        loss = F.nll_loss(out[proj_data.train_mask], proj_data.y[proj_data.train_mask])\n",
    "        loss.backward()\n",
    "        optimizer.step()\n",
    "\n",
    "    model.eval()\n",
    "    with torch.no_grad():\n",
    "        logits = model(proj_data)\n",
    "        preds = logits.argmax(dim=1)\n",
    "        accuracy = (preds[proj_data.train_mask] == proj_data.y[proj_data.train_mask]).float().mean().item()\n",
    "\n",
    "    if accuracy > best_accuracy:\n",
    "        best_accuracy = accuracy\n",
    "        best_params = {\n",
    "            'num_hidden': num_hidden,\n",
    "            'lr': lr,\n",
    "            'weight_decay': weight_decay\n",
    "        }\n",
    "        best_preds = preds\n",
    "\n",
    "print('Best accuracy:', best_accuracy)\n",
    "print('Best hyperparameters:', best_params)\n",
    "\n",
    "# print predictions\n",
    "best_preds = best_preds[proj_data.train_mask]\n",
    "correct = (best_preds == proj_data.y[proj_data.train_mask]).sum()\n",
    "acc = int(correct) / int(proj_data.train_mask.sum())\n",
    "print(f'Train accuracy: {acc:.4f}')"
   ]
  },
  {
   "cell_type": "code",
   "execution_count": null,
   "metadata": {},
   "outputs": [],
   "source": []
  },
  {
   "cell_type": "markdown",
   "metadata": {},
   "source": [
    "### Using the Best Hyperparameters from the Previous Step"
   ]
  },
  {
   "cell_type": "code",
   "execution_count": 62,
   "metadata": {},
   "outputs": [],
   "source": [
    "# get best hyperparameters\n",
    "num_hidden = best_params['num_hidden']\n",
    "lr = best_params['lr']\n",
    "weight_decay = best_params['weight_decay']\n",
    "\n",
    "# create model with best hyperparameters\n",
    "best_model = GCN(num_node_features=proj_data.x.shape[1], \n",
    "                 num_hidden=num_hidden,\n",
    "                 num_classes=(proj_data.y.max()+1).item()\n",
    "                ).to(device)\n",
    "optimizer = torch.optim.RMSprop(best_model.parameters(), lr=lr, alpha=0.8, weight_decay=weight_decay)\n",
    "\n",
    "# train model with best hyperparameters\n",
    "best_model.train()\n",
    "for epoch in range(200):\n",
    "    optimizer.zero_grad()\n",
    "    out = best_model(proj_data)\n",
    "    loss = F.nll_loss(out[proj_data.train_mask], proj_data.y[proj_data.train_mask])\n",
    "    loss.backward()\n",
    "    optimizer.step()\n"
   ]
  },
  {
   "cell_type": "code",
   "execution_count": 63,
   "metadata": {},
   "outputs": [
    {
     "name": "stdout",
     "output_type": "stream",
     "text": [
      "Accuracy: 0.9778\n"
     ]
    }
   ],
   "source": [
    "best_model.eval()\n",
    "pred = best_model(proj_data).argmax(dim=1)\n",
    "correct = (pred[proj_data.train_mask] == proj_data.y[proj_data.train_mask]).sum()\n",
    "acc = int(correct) / int(proj_data.train_mask.sum())\n",
    "print(f'Accuracy: {acc:.4f}')\n"
   ]
  },
  {
   "cell_type": "markdown",
   "metadata": {},
   "source": [
    "## How to submit the result"
   ]
  },
  {
   "cell_type": "code",
   "execution_count": 66,
   "metadata": {},
   "outputs": [
    {
     "data": {
      "text/plain": [
       "tensor([6, 2, 6,  ..., 1, 1, 5])"
      ]
     },
     "execution_count": 66,
     "metadata": {},
     "output_type": "execute_result"
    }
   ],
   "source": [
    "pred[idx_test]"
   ]
  },
  {
   "cell_type": "code",
   "execution_count": 67,
   "metadata": {},
   "outputs": [],
   "source": [
    "preds = pred[idx_test]\n",
    "np.savetxt('submission_9778.txt', preds, fmt='%d')\n"
   ]
  },
  {
   "cell_type": "code",
   "execution_count": null,
   "metadata": {},
   "outputs": [],
   "source": []
  },
  {
   "cell_type": "code",
   "execution_count": null,
   "metadata": {},
   "outputs": [],
   "source": []
  },
  {
   "cell_type": "code",
   "execution_count": null,
   "metadata": {},
   "outputs": [],
   "source": []
  }
 ],
 "metadata": {
  "kernelspec": {
   "display_name": "Python 3 (ipykernel)",
   "language": "python",
   "name": "python3"
  },
  "language_info": {
   "codemirror_mode": {
    "name": "ipython",
    "version": 3
   },
   "file_extension": ".py",
   "mimetype": "text/x-python",
   "name": "python",
   "nbconvert_exporter": "python",
   "pygments_lexer": "ipython3",
   "version": "3.9.13"
  }
 },
 "nbformat": 4,
 "nbformat_minor": 4
}
